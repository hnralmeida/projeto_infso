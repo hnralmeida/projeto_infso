{
 "cells": [
  {
   "cell_type": "markdown",
   "id": "56b1e4e4",
   "metadata": {},
   "source": [
    "<h1>Como entrar na faculdade com a nota do Enem?</h1>\n",
    "<p>O Enem é considerado o maior vestibular do país, pois serve para disputar vagas em diversas universidades públicas e privadas de todas as regiões do Brasil. Além disso, com a nota do Enem é possível conseguir bolsas de estudo ou financiamentos estudantis por um preço bem baixo. Muitas universidades particulares aceitam a nota do Enem como forma de ingresso direto, ou seja, basta ir até a universidade, mostrar sua nota do Enem e, caso tenha a pontuação necessária, fazer a matrícula no curso desejado, sem precisar passar por outro processo seletivo.</p>\n"
   ]
  },
  {
   "cell_type": "markdown",
   "id": "11d921d9",
   "metadata": {},
   "source": [
    "<h1> Cada instituição define as regras de como isso vai ocorrer, quantas vagas serão disponibilizadas, para quais cursos e se existirá uma nota mínima para conseguir a vaga </h1>\n",
    "<p>O Enem principalmente é utilizado para ingressar em universidades públicas, através do SISU (Sistema de Seleção Unificada), um sistema totalmente informatizado que usa como critério a nota do Enem. O processo seletivo do Sisu acontece duas vezes ao ano, antes do início de cada semestre (geralmente nos meses de janeiro e junho). As inscrições são realizadas somente pela internet e o candidato precisa ter feito o Enem mais recente (do ano imediatamente anterior ao da seleção).</p>\n",
    "<p>O candidato escolhe qual curso deseja fazer e em qual universidade (existe também uma segunda opção). Sua nota será comparada apenas com os candidatos que estão disputando a mesma vaga e na mesma modalidade de concorrência: ampla concorrência ou políticas afirmativas (cotas).</p>\n",
    "<p>Algumas universidades que mantêm o vestibular tradicional consideram a nota do Enem para calcular a pontuação final dos candidatos. Desta forma, é possível melhorar seu desempenho no vestibular utilizando a nota do Enem.\n",
    "Universidades de renome, principalmente públicas, têm utilizado este método até em cursos bastante concorridos, como o de Medicina. As regras de utilização da nota do Enem, assim como o cálculo da pontuação final, variam de acordo com a instituição de ensino.</p>\n"
   ]
  },
  {
   "cell_type": "markdown",
   "id": "8e16cb74",
   "metadata": {},
   "source": [
    "<h2>Documentos para se inscrever no Enem 2022 e como realizar a inscrição</h2>\n",
    "<p>O sistema irá exigir que sejam fornecidas algumas informações sobre você. Por isso, antes de iniciar a sua inscrição, tenha certeza de que ter em mãos:</p>\n",
    "<ul>\n",
    "<li>Número de seu Cadastro de Pessoa Física (CPF);</li>\n",
    "\n",
    "<li>Número do documento de identidade;</li>\n",
    "\n",
    "<li>NIS ou PIS/PASEP;</li>\n",
    "\n",
    "<li>Endereço de e–mail único e válido;</li>\n",
    "\n",
    "<li>Número de celular válido;</li>\n",
    "\n",
    "<li>Foto do participante com fundo branco que pode ser usada para reconhecimento no momento da prova.</li>\n",
    "\n",
    "</ul>"
   ]
  },
  {
   "cell_type": "markdown",
   "id": "12d88d96",
   "metadata": {},
   "source": [
    "<h1>Passo a Passo</h1>\n",
    "<p>.</p>"
   ]
  },
  {
   "cell_type": "markdown",
   "id": "a9725ebc",
   "metadata": {},
   "source": [
    "<h1>A prova do Enem</h1>\n",
    "<p>A taxa de inscrição da prova é de R$ 85,00 (exceto para alunos do 3º ano do ensino médio que irão realizar o pedido de isenção de taxa), os métodos de pagamento são feitos por pix, boleto bancário ou cartão de crédito. Para os participantes que fizeram o pedido de isenção da taxa e tiveram a solicitação aprovada, saibam que a inscrição deve ser feita mesmo assim.</p>\n",
    "<p>É realizado o Enem em 2 dias (ambos no dia de domingo). A prova é dividida em:</p>\n",
    "<p>1º dia</p>\n",
    "<ul>\n",
    "<li>45 questões de Linguagens — 40 de língua portuguesa e 5 de língua estrangeira  da sua preferência (inglês ou espanhol);</li>\n",
    "\n",
    "\n",
    "<li>45 questões de Ciências Humanas (história, geografia, sociologia e filosofia);</li>\n",
    "\n",
    "\n",
    "<li>Redação.</li>\n",
    "\n",
    "</ul>\n",
    "\n",
    "<p>2º dia</p>\n",
    "<ul>\n",
    "<li>45 questões de Matemática;</li>\n",
    "\n",
    "\n",
    "<li>45 questões de Ciências da Natureza (biologia, física e química).</li>\n",
    "\n",
    "</ul>"
   ]
  },
  {
   "cell_type": "markdown",
   "id": "0a0548fb",
   "metadata": {},
   "source": [
    "<h1>Como se inscrever no Sisu</h1>\n",
    "<p>.</p>"
   ]
  },
  {
   "cell_type": "markdown",
   "id": "d7994446",
   "metadata": {},
   "source": [
    "<h1> Vestibular </h1>\n",
    "\n",
    "<p>O Vestibular já foi a principal forma de ingresso na faculdade, sendo sua organização responsável pela própria instituição que a promovia. As universidades públicas eram as mais concorridas entre as aplicadas no Brasil, seja pela oportunidade única de estudo gratuito ou pela reputação de um ensino de qualidade de que gozam essas instituições em relação às privadas.</p>\n",
    "<p>O modelo é criticado atualmente por não promover o acesso igualitário para todas camadas da população, pois eles se tornam uma competição para medir quais estudantes puderam pagar mais por cursos pré-vestibulares e decoraram mais questões de vestibular para ingressar na universidade.</p>\n",
    "<p>A estrutura da prova varia de acordo com a instituição, mas sendo constituída geralmente por uma primeira fase objetiva, questões de múltipla escolha e geralmente com as principais matérias (Língua portuguesa, História, Geografia, Biologia, Física, Matemática e Química) e uma segunda fase discursiva, onde o candidato deve responder às questões de maneira escrita de acordo com a faculdade que pretende cursar.</p>\n"
   ]
  },
  {
   "cell_type": "markdown",
   "id": "8bdc49c3",
   "metadata": {},
   "source": [
    "<h1>Vestibular seriado</h1>\n",
    "\n",
    "<p>Realizada durante os três anos do ensino médio, essa modalidade de vestibular permite a avaliação gradual do desempenho dos alunos. O aluno realiza três exames, uma ao final de cada ano (1°, 2° e 3°), porém a opção pelo curso só ocorre no ano de conclusão do ensino médio.</p>\n",
    "\n",
    "<p>Exige menos tensão do candidato, uma vez que o conteúdo é restrito ao que foi aprendido naquele ano, ao contrário da modalidade tradicional do vestibular, que demanda o que foi assimilado nos três anos de ensino médio.\n",
    "Apenas em algumas instituições o sistema é cumulativo (ao final do 2º ano, conteúdos de 1º e 2º anos, e ao final do 3º o conteúdo dos três anos, como no vestibular). </p>\n",
    "\n",
    "<p>Depois da realização das três provas, a instituição elabora uma média com os resultados obtidos ao final de cada ano e as vagas destinadas ao processo são preenchidas de acordo com a pontuação dos candidatos. Com as notas das três provas, obtém-se a média final que irá classificar o candidato. O peso das notas será definido por cada instituição.</p>\n",
    "\n",
    "<p>Grande parte das universidades que oferecem esse tipo de avaliação permitem que o candidato realize também, no último ano, o vestibular tradicional, sendo válido o melhor desempenho (ENEM ou vestibular próprio). No caso específico do ensino médio realizado na modalidade de curso técnico, que aumenta para quatro o número de séries no ensino médio, os estudantes só começam a realizar as provas no segundo ano. A regra não vale para Universidade Estadual de Maringá (UEM), pois a instituição prevê que os candidatos realizem as provas ao final do 1°, 2° e 4° ano.</p>\n",
    "\n",
    "<p>Porcentagem de cada universidade de vagas totais são destinadas ao processo seriado. E ainda, o aluno que estiver inscrito na avaliação seriada pode participar também do vestibular tradicional ao final do 3º ano. Normalmente, é cobrada a taxa de inscrição, mas determinados grupos podem solicitar isenção da taxa (depende de cada universidade, normalmente é por renda familiar).</p>\n",
    "\n",
    "<p>Principais Processos Seletivos Seriados do Brasil:</p>\n",
    "<ul>\n",
    " <li> SIS – Universidade do Estado do Amazonas (UEA) </li>\n",
    " <li> SSA – Universidade de Pernambuco (UPE) </li>\n",
    " <li> PSS – Universidade Federal de Roraima (UFRR) </li>\n",
    " <li> PISM – Universidade Federal de Juiz de Fora (UFJF) </li>\n",
    " <li> SASI – Universidade Federal dos Vales do Jequitinhonha e Mucuri (UFVJM) </li>\n",
    " <li> PAS – Universidade de Brasília (UnB) </li>\n",
    " <li> PIAS – Universidade de Uberaba (Uniube) </li>\n",
    " <li> PAES – Universidade Estadual de Montes Claros (Unimontes) </li>\n",
    " <li> PAS – Fundação Armando Álvares Penteado (Faap – SP) </li>\n",
    " <li> SAS – Universidade Estadual de Goiás (UEG) </li>\n",
    " <li> PSS – Universidade Estadual de Ponta Grossa (UEPG) </li>\n",
    " <li> PAS – Universidade Estadual de Maringá (UEM) </li>\n",
    " <li> PAC – Universidade Estadual do Centro-Oeste (Unicentro) </li>\n",
    " <li> PVS – Universidade Presbiteriana Mackenzie (UPM) </li>\n",
    "</ul>\n",
    "\n",
    "<p> Exemplo da SASI (UFVJM):\n",
    "https://portal.ufvjm.edu.br/a-universidade/formas-de-ingresso/sasi/2022 </p>\n",
    "\n",
    "<p> Exemplo PAS (UFLA):\n",
    "https://pas.ufla.br/o-que-e-pas </p>\n",
    "<p>UFLA também oferece a oportunidade para aqueles que perderam a prova no primeiro ano, solicitando fazer 2 etapas no mesmo ano.</p>\n",
    "\n",
    "<p> Para quem está próximo de concluir o EM, é válido: </p>\n",
    "<p> Candidatos que já concluíram o Ensino médio ou com previsão de conclusão do Ensino Médio: </p>\n",
    "<ul>\n",
    "<p>O candidato deve se inscrever no PAS 2ª Etapa Grupo XXII (Triênio 2021-2023), desde que tenha se inscrito e realizado a prova da 1ª Etapa nesse Grupo. Para os candidatos desse Grupo/Triênio, a prova do Exame Nacional do Ensino Médio – Enem deverá ser realizada no segundo semestre de 2022, pois será utilizada a nota do ENEM como 3ª Etapa do PAS.</p>\n",
    "</ul>\n",
    "\n",
    "<p>Exemplo PISM (UFJF):\n",
    "http://guia.gv.ufjf.br/guia/pism/</p>\n",
    "\n",
    "<p>A UFJF, por exemplo, não aceita que um indivíduo realize a prova de um módulo sem ter feito todos os módulos anteriores.</p>\n"
   ]
  }
 ],
 "metadata": {
  "kernelspec": {
   "display_name": "Python 3",
   "language": "python",
   "name": "python3"
  },
  "language_info": {
   "codemirror_mode": {
    "name": "ipython",
    "version": 3
   },
   "file_extension": ".py",
   "mimetype": "text/x-python",
   "name": "python",
   "nbconvert_exporter": "python",
   "pygments_lexer": "ipython3",
   "version": "3.6.9"
  }
 },
 "nbformat": 4,
 "nbformat_minor": 5
}
